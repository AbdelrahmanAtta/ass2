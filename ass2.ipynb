{
 "cells": [
  {
   "cell_type": "code",
   "execution_count": 2,
   "id": "90f77c4e-8c79-43a5-a0dc-441b84a50a9c",
   "metadata": {},
   "outputs": [
    {
     "name": "stdout",
     "output_type": "stream",
     "text": [
      "الأوزان الجديدة بعد التحديث:\n",
      "w1+: 0.1498\n",
      "w2+: 0.1996\n",
      "w3+: 0.2498\n",
      "w4+: 0.2996\n",
      "w5+: 0.3587\n",
      "w6+: 0.4082\n",
      "w7+: 0.5111\n",
      "w8+: 0.5610\n"
     ]
    }
   ],
   "source": [
    "import numpy as np\n",
    "\n",
    "# المعطيات الأولية\n",
    "w = np.array([0.15, 0.20, 0.25, 0.30, 0.3589, 0.408666, 0.5113, 0.56137])  # الأوزان الأولية [w1, w2, w3, w4, w5, w6, w7, w8]\n",
    "i = np.array([0.05, 0.10])  # المدخلات [i1, i2]\n",
    "eta = 0.5  # معدل التعلم\n",
    "\n",
    "# القيم المحسوبة مسبقًا\n",
    "out_h1 = 0.5933\n",
    "out_h2 = 0.5969\n",
    "dE_total_dout_h1 = 0.0364\n",
    "dE_total_dout_h2 = 0.0296\n",
    "\n",
    "dout_h1_dnet_h1 = out_h1 * (1 - out_h1)  # 0.2413\n",
    "dout_h2_dnet_h2 = out_h2 * (1 - out_h2)  # 0.2406\n",
    "\n",
    "# حساب التحديث لكل وزن\n",
    "dE_total_dw = np.zeros(8)\n",
    "dE_total_dw[0] = dE_total_dout_h1 * dout_h1_dnet_h1 * i[0]  # w1\n",
    "dE_total_dw[1] = dE_total_dout_h1 * dout_h1_dnet_h1 * i[1]  # w2\n",
    "dE_total_dw[2] = dE_total_dout_h2 * dout_h2_dnet_h2 * i[0]  # w3\n",
    "dE_total_dw[3] = dE_total_dout_h2 * dout_h2_dnet_h2 * i[1]  # w4\n",
    "dE_total_dw[4] = dE_total_dout_h1 * dout_h1_dnet_h1 * i[0]  # w5\n",
    "dE_total_dw[5] = dE_total_dout_h1 * dout_h1_dnet_h1 * i[1]  # w6\n",
    "dE_total_dw[6] = dE_total_dout_h2 * dout_h2_dnet_h2 * i[0]  # w7\n",
    "dE_total_dw[7] = dE_total_dout_h2 * dout_h2_dnet_h2 * i[1]  # w8\n",
    "\n",
    "# تحديث الأوزان\n",
    "w -= eta * dE_total_dw\n",
    "\n",
    "# طباعة النتائج بعد التحديث\n",
    "print(\"الأوزان الجديدة بعد التحديث:\")\n",
    "for idx, weight in enumerate(w, 1):\n",
    "    print(f\"w{idx}+: {weight:.4f}\")"
   ]
  },
  {
   "cell_type": "code",
   "execution_count": null,
   "id": "763d7c83-0966-42af-9955-1694a65802be",
   "metadata": {},
   "outputs": [],
   "source": []
  },
  {
   "cell_type": "code",
   "execution_count": null,
   "id": "15600e25-94f2-418d-9a3b-ec42277ac7aa",
   "metadata": {},
   "outputs": [],
   "source": []
  }
 ],
 "metadata": {
  "kernelspec": {
   "display_name": "Python 3 (ipykernel)",
   "language": "python",
   "name": "python3"
  },
  "language_info": {
   "codemirror_mode": {
    "name": "ipython",
    "version": 3
   },
   "file_extension": ".py",
   "mimetype": "text/x-python",
   "name": "python",
   "nbconvert_exporter": "python",
   "pygments_lexer": "ipython3",
   "version": "3.11.7"
  }
 },
 "nbformat": 4,
 "nbformat_minor": 5
}
